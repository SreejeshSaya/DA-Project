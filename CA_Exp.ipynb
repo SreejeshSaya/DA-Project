{
 "cells": [
  {
   "cell_type": "code",
   "execution_count": 1,
   "metadata": {},
   "outputs": [],
   "source": [
    "import numpy as np\n",
    "import pandas as pd\n",
    "import matplotlib.pyplot as plt\n",
    "import seaborn as sns\n",
    "from datetime import  date"
   ]
  },
  {
   "cell_type": "code",
   "execution_count": 2,
   "metadata": {},
   "outputs": [],
   "source": [
    "from sklearn.neighbors import KNeighborsClassifier\n",
    "\n",
    "# Import DecisionTreeClassifier from sklearn.tree\n",
    "from sklearn.tree import DecisionTreeClassifier\n",
    "\n",
    "# Import RandomForestClassifier\n",
    "from sklearn.ensemble import RandomForestClassifier\n",
    "\n",
    "# Import LogisticRegression\n",
    "from sklearn.linear_model import LogisticRegression\n",
    "\n",
    "from sklearn.model_selection import train_test_split\n",
    "from sklearn.model_selection import GridSearchCV\n",
    "from sklearn.feature_selection import SelectFromModel\n",
    "from sklearn.metrics import classification_report\n",
    "from sklearn.metrics import confusion_matrix\n",
    "from sklearn.metrics import accuracy_score\n",
    "from sklearn.metrics import roc_curve, auc"
   ]
  },
  {
   "cell_type": "code",
   "execution_count": 3,
   "metadata": {},
   "outputs": [],
   "source": [
    "%matplotlib inline\n",
    "pd.set_option('display.max_rows', 200)\n",
    "pd.set_option('display.max_columns', 200)\n",
    "plt.style.use('ggplot')\n",
    "df=pd.read_csv('US_accidents_for_5_states.csv')"
   ]
  },
  {
   "cell_type": "code",
   "execution_count": 4,
   "metadata": {},
   "outputs": [
    {
     "name": "stdout",
     "output_type": "stream",
     "text": [
      "<class 'pandas.core.frame.DataFrame'>\n",
      "RangeIndex: 993530 entries, 0 to 993529\n",
      "Data columns (total 56 columns):\n",
      " #   Column                 Non-Null Count   Dtype         \n",
      "---  ------                 --------------   -----         \n",
      " 0   Unnamed: 0             993530 non-null  int64         \n",
      " 1   ID                     993530 non-null  object        \n",
      " 2   Source                 993530 non-null  object        \n",
      " 3   TMC                    623281 non-null  float64       \n",
      " 4   Severity               993530 non-null  int64         \n",
      " 5   Start_Time             993530 non-null  datetime64[ns]\n",
      " 6   End_Time               993530 non-null  datetime64[ns]\n",
      " 7   Start_Lat              993530 non-null  float64       \n",
      " 8   Start_Lng              993530 non-null  float64       \n",
      " 9   End_Lat                370249 non-null  float64       \n",
      " 10  End_Lng                370249 non-null  float64       \n",
      " 11  Distance(mi)           993530 non-null  float64       \n",
      " 12  Description            993530 non-null  object        \n",
      " 13  Number                 244455 non-null  float64       \n",
      " 14  Street                 993530 non-null  object        \n",
      " 15  Side                   993530 non-null  object        \n",
      " 16  City                   993519 non-null  object        \n",
      " 17  County                 993530 non-null  object        \n",
      " 18  State                  993530 non-null  object        \n",
      " 19  Zipcode                993001 non-null  object        \n",
      " 20  Country                993530 non-null  object        \n",
      " 21  Timezone               993001 non-null  object        \n",
      " 22  Airport_Code           992980 non-null  object        \n",
      " 23  Weather_Timestamp      978749 non-null  object        \n",
      " 24  Temperature(F)         969922 non-null  float64       \n",
      " 25  Wind_Chill(F)          423274 non-null  float64       \n",
      " 26  Humidity(%)            968413 non-null  float64       \n",
      " 27  Pressure(in)           975350 non-null  float64       \n",
      " 28  Visibility(mi)         961501 non-null  float64       \n",
      " 29  Wind_Direction         970418 non-null  object        \n",
      " 30  Wind_Speed(mph)        829991 non-null  float64       \n",
      " 31  Precipitation(in)      410149 non-null  float64       \n",
      " 32  Weather_Condition      961656 non-null  object        \n",
      " 33  Amenity                993530 non-null  bool          \n",
      " 34  Bump                   993530 non-null  bool          \n",
      " 35  Crossing               993530 non-null  bool          \n",
      " 36  Give_Way               993530 non-null  bool          \n",
      " 37  Junction               993530 non-null  bool          \n",
      " 38  No_Exit                993530 non-null  bool          \n",
      " 39  Railway                993530 non-null  bool          \n",
      " 40  Roundabout             993530 non-null  bool          \n",
      " 41  Station                993530 non-null  bool          \n",
      " 42  Stop                   993530 non-null  bool          \n",
      " 43  Traffic_Calming        993530 non-null  bool          \n",
      " 44  Traffic_Signal         993530 non-null  bool          \n",
      " 45  Turning_Loop           993530 non-null  bool          \n",
      " 46  Sunrise_Sunset         993519 non-null  object        \n",
      " 47  Civil_Twilight         993519 non-null  object        \n",
      " 48  Nautical_Twilight      993519 non-null  object        \n",
      " 49  Astronomical_Twilight  993519 non-null  object        \n",
      " 50  Year                   993530 non-null  int64         \n",
      " 51  Month                  993530 non-null  object        \n",
      " 52  Day                    993530 non-null  int64         \n",
      " 53  Hour                   993530 non-null  int64         \n",
      " 54  Weekday                993530 non-null  object        \n",
      " 55  Time_Duration(min)     993530 non-null  float64       \n",
      "dtypes: bool(13), datetime64[ns](2), float64(15), int64(5), object(21)\n",
      "memory usage: 338.3+ MB\n",
      "816825\n"
     ]
    }
   ],
   "source": [
    "df['Start_Time'] = pd.to_datetime(df['Start_Time'], errors='coerce')\n",
    "df['End_Time'] = pd.to_datetime(df['End_Time'], errors='coerce')\n",
    "\n",
    "# Extract year, month, day, hour and weekday\n",
    "df['Year']=df['Start_Time'].dt.year\n",
    "df['Month']=df['Start_Time'].dt.strftime('%b')\n",
    "df['Day']=df['Start_Time'].dt.day\n",
    "df['Hour']=df['Start_Time'].dt.hour\n",
    "df['Weekday']=df['Start_Time'].dt.strftime('%a')\n",
    "\n",
    "# Extract the amount of time in the unit of minutes for each accident, round to the nearest integer\n",
    "td='Time_Duration(min)'\n",
    "df[td]=round((df['End_Time']-df['Start_Time'])/np.timedelta64(1,'m'))\n",
    "df.info()\n",
    "\n",
    "dd=df.copy()\n",
    "\n",
    "dd=dd[dd['State']=='CA']\n",
    "print(len(dd))"
   ]
  },
  {
   "cell_type": "code",
   "execution_count": 5,
   "metadata": {},
   "outputs": [
    {
     "name": "stdout",
     "output_type": "stream",
     "text": [
      "56\n",
      "(816825, 51)\n",
      "<class 'pandas.core.frame.DataFrame'>\n",
      "Int64Index: 816825 entries, 0 to 993529\n",
      "Data columns (total 51 columns):\n",
      " #   Column                 Non-Null Count   Dtype         \n",
      "---  ------                 --------------   -----         \n",
      " 0   Unnamed: 0             816825 non-null  int64         \n",
      " 1   ID                     816825 non-null  object        \n",
      " 2   Source                 816825 non-null  object        \n",
      " 3   TMC                    485943 non-null  float64       \n",
      " 4   Severity               816825 non-null  int64         \n",
      " 5   Start_Time             816825 non-null  datetime64[ns]\n",
      " 6   End_Time               816825 non-null  datetime64[ns]\n",
      " 7   Start_Lat              816825 non-null  float64       \n",
      " 8   Start_Lng              816825 non-null  float64       \n",
      " 9   Distance(mi)           816825 non-null  float64       \n",
      " 10  Description            816825 non-null  object        \n",
      " 11  Street                 816825 non-null  object        \n",
      " 12  Side                   816825 non-null  object        \n",
      " 13  City                   816817 non-null  object        \n",
      " 14  County                 816825 non-null  object        \n",
      " 15  State                  816825 non-null  object        \n",
      " 16  Zipcode                816518 non-null  object        \n",
      " 17  Country                816825 non-null  object        \n",
      " 18  Timezone               816518 non-null  object        \n",
      " 19  Airport_Code           816497 non-null  object        \n",
      " 20  Weather_Timestamp      804290 non-null  object        \n",
      " 21  Temperature(F)         797191 non-null  float64       \n",
      " 22  Humidity(%)            795815 non-null  float64       \n",
      " 23  Pressure(in)           802042 non-null  float64       \n",
      " 24  Visibility(mi)         800231 non-null  float64       \n",
      " 25  Wind_Direction         800096 non-null  object        \n",
      " 26  Wind_Speed(mph)        683440 non-null  float64       \n",
      " 27  Weather_Condition      800434 non-null  object        \n",
      " 28  Amenity                816825 non-null  bool          \n",
      " 29  Bump                   816825 non-null  bool          \n",
      " 30  Crossing               816825 non-null  bool          \n",
      " 31  Give_Way               816825 non-null  bool          \n",
      " 32  Junction               816825 non-null  bool          \n",
      " 33  No_Exit                816825 non-null  bool          \n",
      " 34  Railway                816825 non-null  bool          \n",
      " 35  Roundabout             816825 non-null  bool          \n",
      " 36  Station                816825 non-null  bool          \n",
      " 37  Stop                   816825 non-null  bool          \n",
      " 38  Traffic_Calming        816825 non-null  bool          \n",
      " 39  Traffic_Signal         816825 non-null  bool          \n",
      " 40  Turning_Loop           816825 non-null  bool          \n",
      " 41  Sunrise_Sunset         816817 non-null  object        \n",
      " 42  Civil_Twilight         816817 non-null  object        \n",
      " 43  Nautical_Twilight      816817 non-null  object        \n",
      " 44  Astronomical_Twilight  816817 non-null  object        \n",
      " 45  Year                   816825 non-null  int64         \n",
      " 46  Month                  816825 non-null  object        \n",
      " 47  Day                    816825 non-null  int64         \n",
      " 48  Hour                   816825 non-null  int64         \n",
      " 49  Weekday                816825 non-null  object        \n",
      " 50  Time_Duration(min)     816825 non-null  float64       \n",
      "dtypes: bool(13), datetime64[ns](2), float64(10), int64(5), object(21)\n",
      "memory usage: 253.2+ MB\n",
      "None\n",
      "['Day' 'Night' nan]\n",
      "(816825, 45)\n",
      "Unnamed: 0                 0\n",
      "ID                         0\n",
      "Source                     0\n",
      "Severity                   0\n",
      "Start_Time                 0\n",
      "End_Time                   0\n",
      "Start_Lat                  0\n",
      "Start_Lng                  0\n",
      "Distance(mi)               0\n",
      "Description                0\n",
      "Street                     0\n",
      "Side                       0\n",
      "City                       8\n",
      "County                     0\n",
      "State                      0\n",
      "Zipcode                  307\n",
      "Country                    0\n",
      "Timezone                 307\n",
      "Airport_Code             328\n",
      "Temperature(F)         19634\n",
      "Humidity(%)            21010\n",
      "Pressure(in)           14783\n",
      "Visibility(mi)         16594\n",
      "Wind_Direction         16729\n",
      "Wind_Speed(mph)       133385\n",
      "Weather_Condition      16391\n",
      "Amenity                    0\n",
      "Bump                       0\n",
      "Crossing                   0\n",
      "Give_Way                   0\n",
      "Junction                   0\n",
      "No_Exit                    0\n",
      "Railway                    0\n",
      "Roundabout                 0\n",
      "Station                    0\n",
      "Stop                       0\n",
      "Traffic_Calming            0\n",
      "Traffic_Signal             0\n",
      "Sunrise_Sunset             8\n",
      "Year                       0\n",
      "Month                      0\n",
      "Day                        0\n",
      "Hour                       0\n",
      "Weekday                    0\n",
      "Time_Duration(min)         0\n",
      "dtype: int64\n",
      "816825\n"
     ]
    }
   ],
   "source": [
    "print(len(dd.columns))\n",
    "cols = dd.columns[dd.isnull().mean()>0.5]\n",
    "dd.drop(cols, axis=1,inplace=True)\n",
    "\n",
    "print(dd.shape)\n",
    "\n",
    "print(dd.info())\n",
    "\n",
    "print(dd.Sunrise_Sunset.unique())\n",
    "\n",
    "unwanted_cols=['Turning_Loop','Civil_Twilight','Nautical_Twilight','Astronomical_Twilight','Weather_Timestamp','TMC']\n",
    "dd.drop(unwanted_cols, axis=1,inplace=True)\n",
    "\n",
    "print(dd.shape)\n",
    "\n",
    "print(dd.isnull().sum())\n",
    "\n",
    "print(len(dd))"
   ]
  },
  {
   "cell_type": "code",
   "execution_count": 6,
   "metadata": {},
   "outputs": [
    {
     "name": "stdout",
     "output_type": "stream",
     "text": [
      "56.0\n",
      "73.0\n",
      "17.0\n",
      "1705 6127\n"
     ]
    },
    {
     "data": {
      "image/png": "[encoded data removed]",
      "text/plain": [
       "<Figure size 432x288 with 1 Axes>"
      ]
     },
     "metadata": {},
     "output_type": "display_data"
    }
   ],
   "source": [
    "#plotting the box plots and finding the outliers\n",
    "sns.boxplot(data=dd,x=dd['Temperature(F)'])\n",
    "Q1=dd['Temperature(F)'].quantile(0.25)\n",
    "Q3=dd['Temperature(F)'].quantile(0.75)\n",
    "IQR=Q3-Q1\n",
    "print(Q1)\n",
    "print(Q3)\n",
    "print(IQR)\n",
    "iqr_range=1.5*IQR\n",
    "Lower_bound=Q1-iqr_range\n",
    "Upper_bound=Q3+iqr_range\n",
    "lower_outliers=dd[dd['Temperature(F)']<Lower_bound]\n",
    "upper_outliers=dd[dd['Temperature(F)']>Upper_bound]\n",
    "print(len(lower_outliers),len(upper_outliers))"
   ]
  },
  {
   "cell_type": "code",
   "execution_count": 7,
   "metadata": {},
   "outputs": [
    {
     "name": "stdout",
     "output_type": "stream",
     "text": [
      "19634\n",
      "64.97231290870067 64.0\n",
      "64.0\n",
      "0\n"
     ]
    },
    {
     "data": {
      "image/png": "[encoded data removed]",
      "text/plain": [
       "<Figure size 432x288 with 1 Axes>"
      ]
     },
     "metadata": {},
     "output_type": "display_data"
    }
   ],
   "source": [
    "#Filling the temperature column missing values with its mean\n",
    "dd_temperature=dd[\"Temperature(F)\"]\n",
    "#plotting the temperature histogram\n",
    "dd_temperature.hist(bins=20)\n",
    "#approximately follows normal distribution\n",
    "print(dd[\"Temperature(F)\"].isnull().sum())\n",
    "#filling the missing values with the median\n",
    "median_temperature=dd_temperature.median()\n",
    "mean_temperature=dd_temperature.mean()\n",
    "print(mean_temperature,median_temperature)\n",
    "#calculating the median and mean temperature and since both are very close it is normal ditribution\n",
    "print(median_temperature)\n",
    "#filling the median temperature into the missing values since we are keeping the outliers\n",
    "dd[\"Temperature(F)\"].fillna(median_temperature, inplace=True)\n",
    "#ensuring that there are no more null values in temperature\n",
    "print(dd['Temperature(F)'].isnull().sum())"
   ]
  },
  {
   "cell_type": "code",
   "execution_count": 8,
   "metadata": {},
   "outputs": [
    {
     "name": "stdout",
     "output_type": "stream",
     "text": [
      "42.0\n",
      "78.0\n",
      "36.0\n",
      "0 0\n"
     ]
    },
    {
     "data": {
      "image/png": "[encoded data removed]",
      "text/plain": [
       "<Figure size 432x288 with 1 Axes>"
      ]
     },
     "metadata": {},
     "output_type": "display_data"
    }
   ],
   "source": [
    "#plotting the box plots and finding the outliers\n",
    "sns.boxplot(data=dd,x=dd['Humidity(%)'])\n",
    "Q1=dd['Humidity(%)'].quantile(0.25)\n",
    "Q3=dd['Humidity(%)'].quantile(0.75)\n",
    "IQR=Q3-Q1\n",
    "print(Q1)\n",
    "print(Q3)\n",
    "print(IQR)\n",
    "iqr_range=1.5*IQR\n",
    "Lower_bound=Q1-iqr_range\n",
    "Upper_bound=Q3+iqr_range\n",
    "lower_outliers=dd[dd['Humidity(%)']<Lower_bound]\n",
    "upper_outliers=dd[dd['Humidity(%)']>Upper_bound]\n",
    "print(len(lower_outliers),len(upper_outliers))"
   ]
  },
  {
   "cell_type": "code",
   "execution_count": 9,
   "metadata": {},
   "outputs": [
    {
     "name": "stdout",
     "output_type": "stream",
     "text": [
      "21010\n",
      "59.56618058217048 62.0\n",
      "59.56618058217048\n",
      "0\n"
     ]
    },
    {
     "data": {
      "image/png": "[encoded data removed]",
      "text/plain": [
       "<Figure size 432x288 with 1 Axes>"
      ]
     },
     "metadata": {},
     "output_type": "display_data"
    }
   ],
   "source": [
    "#Filling the humidity column missing values with its mean\n",
    "dd_humidity=dd[\"Humidity(%)\"]\n",
    "#plotting the humidity histogram\n",
    "dd_humidity.hist(bins=20)\n",
    "#approximately follows normal distribution\n",
    "print(dd[\"Humidity(%)\"].isnull().sum())\n",
    "#filling the missing values with the mean\n",
    "median_humidity=dd_humidity.median()\n",
    "mean_humidity=dd_humidity.mean()\n",
    "print(mean_humidity,median_humidity)\n",
    "#calculating the median and mean humidity and it is left-skewed ditribution\n",
    "print(mean_humidity)\n",
    "#filling the median temperature into the missing values since we are keeping the outliers\n",
    "dd[\"Humidity(%)\"].fillna(mean_humidity, inplace=True)\n",
    "#ensuring that there are no more null values in temperature\n",
    "print(dd['Humidity(%)'].isnull().sum())\n"
   ]
  },
  {
   "cell_type": "code",
   "execution_count": 10,
   "metadata": {},
   "outputs": [
    {
     "name": "stdout",
     "output_type": "stream",
     "text": [
      "29.8\n",
      "30.03\n",
      "0.23000000000000043\n",
      "93557 2662\n"
     ]
    },
    {
     "data": {
      "image/png": "[encoded data removed]",
      "text/plain": [
       "<Figure size 432x288 with 1 Axes>"
      ]
     },
     "metadata": {},
     "output_type": "display_data"
    }
   ],
   "source": [
    "#plotting the box plots and finding the outliers\n",
    "sns.boxplot(data=dd,x=dd['Pressure(in)'])\n",
    "Q1=dd['Pressure(in)'].quantile(0.25)\n",
    "Q3=dd['Pressure(in)'].quantile(0.75)\n",
    "IQR=Q3-Q1\n",
    "print(Q1)\n",
    "print(Q3)\n",
    "print(IQR)\n",
    "iqr_range=1.5*IQR\n",
    "Lower_bound=Q1-iqr_range\n",
    "Upper_bound=Q3+iqr_range\n",
    "lower_outliers=dd[dd['Pressure(in)']<Lower_bound]\n",
    "upper_outliers=dd[dd['Pressure(in)']>Upper_bound]\n",
    "print(len(lower_outliers),len(upper_outliers))"
   ]
  },
  {
   "cell_type": "code",
   "execution_count": 11,
   "metadata": {},
   "outputs": [
    {
     "name": "stdout",
     "output_type": "stream",
     "text": [
      "29.28\n",
      "30.120000000000005\n",
      "-7.446881362975124\n"
     ]
    }
   ],
   "source": [
    "#using the concept of flooring and capping\n",
    "print(dd['Pressure(in)'].quantile(0.10)) #29.28\n",
    "print(dd['Pressure(in)'].quantile(0.90)) #30.12\n",
    "print(dd['Pressure(in)'].skew())  #-7.44688\n",
    "\n"
   ]
  },
  {
   "cell_type": "code",
   "execution_count": 12,
   "metadata": {},
   "outputs": [
    {
     "name": "stdout",
     "output_type": "stream",
     "text": [
      "14783\n",
      "29.793914445876887 29.92\n",
      "-1.3228426110129212\n",
      "29.860323262372795 29.92\n",
      "0\n"
     ]
    },
    {
     "data": {
      "image/png": "[encoded data removed]",
      "text/plain": [
       "<Figure size 432x288 with 1 Axes>"
      ]
     },
     "metadata": {},
     "output_type": "display_data"
    }
   ],
   "source": [
    "#Filling the Pressure column missing values with its mean\n",
    "dd_Pressure=dd[\"Pressure(in)\"]\n",
    "#plotting the Pressure histogram\n",
    "dd_Pressure.hist(bins=20)\n",
    "#approximately follows normal distribution\n",
    "print(dd[\"Pressure(in)\"].isnull().sum())\n",
    "#filling the missing values with the concept of flooring and capping\n",
    "median_Pressure=dd_Pressure.median()\n",
    "mean_Pressure=dd_Pressure.mean()\n",
    "print(mean_Pressure,median_Pressure)\n",
    "#calculating the median and mean pressure and it is left-skewed ditribution\n",
    "dd[\"Pressure(in)\"] = np.where(dd[\"Pressure(in)\"] <29.28, 29.28,dd['Pressure(in)'])\n",
    "dd[\"Pressure(in)\"] = np.where(dd[\"Pressure(in)\"] >30.12, 30.12,dd['Pressure(in)'])\n",
    "print(dd['Pressure(in)'].skew())\n",
    "#improved skew value from -7.44 to -1.322\n",
    "#new mean and median\n",
    "new_median_Pressure=dd_Pressure.median()\n",
    "new_mean_Pressure=dd_Pressure.mean()\n",
    "print(new_mean_Pressure,new_median_Pressure)\n",
    "dd[\"Pressure(in)\"].fillna(new_median_Pressure, inplace=True)\n",
    "#ensuring that there are no more null values in temperature\n",
    "print(dd['Pressure(in)'].isnull().sum())"
   ]
  },
  {
   "cell_type": "code",
   "execution_count": 13,
   "metadata": {},
   "outputs": [
    {
     "name": "stdout",
     "output_type": "stream",
     "text": [
      "10.0\n",
      "10.0\n",
      "0.0\n",
      "168095 708\n"
     ]
    },
    {
     "data": {
      "image/png": "[encoded data removed]",
      "text/plain": [
       "<Figure size 432x288 with 1 Axes>"
      ]
     },
     "metadata": {},
     "output_type": "display_data"
    }
   ],
   "source": [
    "#visibility\n",
    "\n",
    "#plotting the box plots and finding the outliers\n",
    "sns.boxplot(data=dd,x=dd['Visibility(mi)'])\n",
    "Q1=dd['Visibility(mi)'].quantile(0.25)\n",
    "Q3=dd['Visibility(mi)'].quantile(0.75)\n",
    "IQR=Q3-Q1\n",
    "print(Q1)\n",
    "print(Q3)\n",
    "print(IQR)\n",
    "iqr_range=1.5*IQR\n",
    "Lower_bound=Q1-iqr_range\n",
    "Upper_bound=Q3+iqr_range\n",
    "lower_outliers=dd[dd['Visibility(mi)']<Lower_bound]\n",
    "upper_outliers=dd[dd['Visibility(mi)']>Upper_bound]\n",
    "print(len(lower_outliers),len(upper_outliers))\n",
    "\n",
    "\n",
    "#it is skewed"
   ]
  },
  {
   "cell_type": "code",
   "execution_count": 14,
   "metadata": {},
   "outputs": [
    {
     "name": "stdout",
     "output_type": "stream",
     "text": [
      "6.0\n",
      "10.0\n",
      "4.375014813663321\n",
      "16594\n",
      "9.150125251333677 10.0\n",
      "-1.8438807812642013\n",
      "9.364316303667316 10.0\n",
      "0\n",
      "Unnamed: 0                 0\n",
      "ID                         0\n",
      "Source                     0\n",
      "Severity                   0\n",
      "Start_Time                 0\n",
      "End_Time                   0\n",
      "Start_Lat                  0\n",
      "Start_Lng                  0\n",
      "Distance(mi)               0\n",
      "Description                0\n",
      "Street                     0\n",
      "Side                       0\n",
      "City                       8\n",
      "County                     0\n",
      "State                      0\n",
      "Zipcode                  307\n",
      "Country                    0\n",
      "Timezone                 307\n",
      "Airport_Code             328\n",
      "Temperature(F)             0\n",
      "Humidity(%)                0\n",
      "Pressure(in)               0\n",
      "Visibility(mi)             0\n",
      "Wind_Direction         16729\n",
      "Wind_Speed(mph)       133385\n",
      "Weather_Condition      16391\n",
      "Amenity                    0\n",
      "Bump                       0\n",
      "Crossing                   0\n",
      "Give_Way                   0\n",
      "Junction                   0\n",
      "No_Exit                    0\n",
      "Railway                    0\n",
      "Roundabout                 0\n",
      "Station                    0\n",
      "Stop                       0\n",
      "Traffic_Calming            0\n",
      "Traffic_Signal             0\n",
      "Sunrise_Sunset             8\n",
      "Year                       0\n",
      "Month                      0\n",
      "Day                        0\n",
      "Hour                       0\n",
      "Weekday                    0\n",
      "Time_Duration(min)         0\n",
      "dtype: int64\n"
     ]
    },
    {
     "data": {
      "image/png": "[encoded data removed]",
      "text/plain": [
       "<Figure size 432x288 with 1 Axes>"
      ]
     },
     "metadata": {},
     "output_type": "display_data"
    }
   ],
   "source": [
    "#using the concept of flooring and capping\n",
    "print(dd['Visibility(mi)'].quantile(0.10)) #6\n",
    "print(dd['Visibility(mi)'].quantile(0.90)) #10.0\n",
    "print(dd['Visibility(mi)'].skew())  #4.37\n",
    "\n",
    "#Filling the Visibility column missing values with its mean\n",
    "dd_Visibility=dd[\"Visibility(mi)\"]\n",
    "#plotting the Pressure histogram\n",
    "dd_Visibility.hist(bins=20)\n",
    "#approximately follows normal distribution\n",
    "print(dd[\"Visibility(mi)\"].isnull().sum())\n",
    "#filling the missing values with the concept of flooring and capping\n",
    "median_Visibility=dd_Visibility.median()\n",
    "mean_Visibility=dd_Visibility.mean()\n",
    "print(mean_Visibility,median_Visibility)\n",
    "#calculating the median and mean pressure and it is left-skewed ditribution\n",
    "dd[\"Visibility(mi)\"] = np.where(dd[\"Visibility(mi)\"] <6.0, 6.0,dd['Visibility(mi)'])\n",
    "dd[\"Visibility(mi)\"] = np.where(dd[\"Visibility(mi)\"] >10.0, 10.0,dd['Visibility(mi)'])\n",
    "print(dd['Visibility(mi)'].skew())\n",
    "#improved skew value from 4.37 to -1.84\n",
    "#new mean and median\n",
    "new_median_Visibility=dd_Visibility.median()\n",
    "new_mean_Visibility=dd_Visibility.mean()\n",
    "print(new_mean_Visibility,new_median_Visibility)\n",
    "dd[\"Visibility(mi)\"].fillna(new_median_Visibility, inplace=True)\n",
    "#ensuring that there are no more null values in visibility\n",
    "print(dd['Visibility(mi)'].isnull().sum())\n",
    "\n",
    "print(dd.isnull().sum())"
   ]
  },
  {
   "cell_type": "code",
   "execution_count": 15,
   "metadata": {},
   "outputs": [
    {
     "name": "stdout",
     "output_type": "stream",
     "text": [
      "3.5\n",
      "10.0\n",
      "6.5\n",
      "0 11845\n",
      "0.0\n",
      "13.8\n",
      "38.51312041083414\n"
     ]
    },
    {
     "data": {
      "image/png": "[encoded data removed]",
      "text/plain": [
       "<Figure size 432x288 with 1 Axes>"
      ]
     },
     "metadata": {},
     "output_type": "display_data"
    }
   ],
   "source": [
    "#plotting the box plots and finding the outliers\n",
    "sns.boxplot(data=dd,x=dd['Wind_Speed(mph)'])\n",
    "Q1=dd['Wind_Speed(mph)'].quantile(0.25)\n",
    "Q3=dd['Wind_Speed(mph)'].quantile(0.75)\n",
    "IQR=Q3-Q1\n",
    "print(Q1)\n",
    "print(Q3)\n",
    "print(IQR)\n",
    "iqr_range=1.5*IQR\n",
    "Lower_bound=Q1-iqr_range\n",
    "Upper_bound=Q3+iqr_range\n",
    "lower_outliers=dd[dd['Wind_Speed(mph)']<Lower_bound]\n",
    "upper_outliers=dd[dd['Wind_Speed(mph)']>Upper_bound]\n",
    "print(len(lower_outliers),len(upper_outliers))\n",
    "\n",
    "\n",
    "#it is skewed\n",
    "\n",
    "\n",
    "#using the concept of flooring and capping\n",
    "print(dd['Wind_Speed(mph)'].quantile(0.10)) #0\n",
    "print(dd['Wind_Speed(mph)'].quantile(0.90)) #13.8\n",
    "print(dd['Wind_Speed(mph)'].skew())  #38.513"
   ]
  },
  {
   "cell_type": "code",
   "execution_count": 16,
   "metadata": {},
   "outputs": [
    {
     "name": "stdout",
     "output_type": "stream",
     "text": [
      "133385\n",
      "7.202029585625658 6.9\n",
      "-1.8771269304270366\n",
      "6.865819384291232 6.9\n",
      "0\n"
     ]
    },
    {
     "data": {
      "image/png": "[encoded data removed]",
      "text/plain": [
       "<Figure size 432x288 with 1 Axes>"
      ]
     },
     "metadata": {},
     "output_type": "display_data"
    }
   ],
   "source": [
    "#Filling the Visibility column missing values with its mean\n",
    "dd_Windspeed=dd[\"Wind_Speed(mph)\"]\n",
    "#plotting the Pressure histogram\n",
    "dd_Windspeed.hist(bins=20)\n",
    "#approximately follows normal distribution\n",
    "print(dd[\"Wind_Speed(mph)\"].isnull().sum())\n",
    "#filling the missing values with the concept of flooring and capping\n",
    "median_Windspeed=dd_Windspeed.median()\n",
    "mean_Windspeed=dd_Windspeed.mean()\n",
    "print(mean_Windspeed,median_Windspeed)\n",
    "#calculating the median and mean pressure and it is left-skewed ditribution\n",
    "dd[\"Wind_Speed(mph)\"] = np.where(dd[\"Wind_Speed(mph)\"] <0, 0,dd['Wind_Speed(mph)'])\n",
    "dd[\"Wind_Speed(mph)\"] = np.where(dd[\"Wind_Speed(mph)\"] >13.8, 13.8,dd['Wind_Speed(mph)'])\n",
    "print(dd['Visibility(mi)'].skew())\n",
    "#improved skew value from 38 to -1.84\n",
    "#new mean and median\n",
    "new_median_Windspeed=dd_Windspeed.median()\n",
    "new_mean_Windspeed=dd_Windspeed.mean()\n",
    "print(new_mean_Windspeed,new_median_Windspeed)\n",
    "dd[\"Wind_Speed(mph)\"].fillna(new_median_Windspeed, inplace=True)\n",
    "#ensuring that there are no more null values in visibility\n",
    "print(dd['Wind_Speed(mph)'].isnull().sum())"
   ]
  },
  {
   "cell_type": "code",
   "execution_count": 17,
   "metadata": {},
   "outputs": [
    {
     "name": "stdout",
     "output_type": "stream",
     "text": [
      "Calm\n",
      "0\n",
      "Unnamed: 0                0\n",
      "ID                        0\n",
      "Source                    0\n",
      "Severity                  0\n",
      "Start_Time                0\n",
      "End_Time                  0\n",
      "Start_Lat                 0\n",
      "Start_Lng                 0\n",
      "Distance(mi)              0\n",
      "Description               0\n",
      "Street                    0\n",
      "Side                      0\n",
      "City                      8\n",
      "County                    0\n",
      "State                     0\n",
      "Zipcode                 307\n",
      "Country                   0\n",
      "Timezone                307\n",
      "Airport_Code            328\n",
      "Temperature(F)            0\n",
      "Humidity(%)               0\n",
      "Pressure(in)              0\n",
      "Visibility(mi)            0\n",
      "Wind_Direction            0\n",
      "Wind_Speed(mph)           0\n",
      "Weather_Condition     16391\n",
      "Amenity                   0\n",
      "Bump                      0\n",
      "Crossing                  0\n",
      "Give_Way                  0\n",
      "Junction                  0\n",
      "No_Exit                   0\n",
      "Railway                   0\n",
      "Roundabout                0\n",
      "Station                   0\n",
      "Stop                      0\n",
      "Traffic_Calming           0\n",
      "Traffic_Signal            0\n",
      "Sunrise_Sunset            8\n",
      "Year                      0\n",
      "Month                     0\n",
      "Day                       0\n",
      "Hour                      0\n",
      "Weekday                   0\n",
      "Time_Duration(min)        0\n",
      "dtype: int64\n",
      "Clear\n",
      "0\n"
     ]
    }
   ],
   "source": [
    "#Wind_Direction\n",
    "\n",
    "#filling the category with the mode \n",
    "mode_found=(dd['Wind_Direction'].mode())\n",
    "print(mode_found[0])\n",
    "dd[\"Wind_Direction\"].fillna(mode_found[0], inplace=True)\n",
    "print(dd['Wind_Direction'].isnull().sum())\n",
    "\n",
    "\n",
    "\n",
    "\n",
    "print(dd.isnull().sum())\n",
    "\n",
    "\n",
    "\n",
    "#Weather_Condition\n",
    "#filling the category with the mode \n",
    "mode_found=(dd['Weather_Condition'].mode())\n",
    "print(mode_found[0])\n",
    "dd[\"Weather_Condition\"].fillna(mode_found[0], inplace=True)\n",
    "print(dd['Weather_Condition'].isnull().sum())\n"
   ]
  },
  {
   "cell_type": "code",
   "execution_count": 18,
   "metadata": {},
   "outputs": [
    {
     "name": "stdout",
     "output_type": "stream",
     "text": [
      "Los Angeles\n",
      "0\n",
      "Day\n",
      "0\n",
      "Unnamed: 0            0\n",
      "ID                    0\n",
      "Source                0\n",
      "Severity              0\n",
      "Start_Time            0\n",
      "End_Time              0\n",
      "Start_Lat             0\n",
      "Start_Lng             0\n",
      "Distance(mi)          0\n",
      "Description           0\n",
      "Street                0\n",
      "Side                  0\n",
      "City                  0\n",
      "County                0\n",
      "State                 0\n",
      "Country               0\n",
      "Temperature(F)        0\n",
      "Humidity(%)           0\n",
      "Pressure(in)          0\n",
      "Visibility(mi)        0\n",
      "Wind_Direction        0\n",
      "Wind_Speed(mph)       0\n",
      "Weather_Condition     0\n",
      "Amenity               0\n",
      "Bump                  0\n",
      "Crossing              0\n",
      "Give_Way              0\n",
      "Junction              0\n",
      "No_Exit               0\n",
      "Railway               0\n",
      "Roundabout            0\n",
      "Station               0\n",
      "Stop                  0\n",
      "Traffic_Calming       0\n",
      "Traffic_Signal        0\n",
      "Sunrise_Sunset        0\n",
      "Year                  0\n",
      "Month                 0\n",
      "Day                   0\n",
      "Hour                  0\n",
      "Weekday               0\n",
      "Time_Duration(min)    0\n",
      "dtype: int64\n"
     ]
    }
   ],
   "source": [
    "#City\n",
    "#filling the category with the mode \n",
    "mode_found=(dd['City'].mode())\n",
    "print(mode_found[0])\n",
    "dd[\"City\"].fillna(mode_found[0], inplace=True)\n",
    "print(dd['City'].isnull().sum())\n",
    "\n",
    "\n",
    "\n",
    "\n",
    "#Sunrise_sunset\n",
    "#filling the category with the mode \n",
    "mode_found=(dd['Sunrise_Sunset'].mode())\n",
    "print(mode_found[0])\n",
    "dd[\"Sunrise_Sunset\"].fillna(mode_found[0], inplace=True)\n",
    "print(dd['Sunrise_Sunset'].isnull().sum())\n",
    "#dropping the cols 'Zipcode','Timezone','Airport_Code' \n",
    "unwanted_cols_2=['Zipcode','Timezone','Airport_Code']\n",
    "dd.drop(unwanted_cols_2, axis=1,inplace=True)\n",
    "\n",
    "print(dd.isnull().sum())"
   ]
  }
 ],
 "metadata": {
  "kernelspec": {
   "display_name": "Python 3",
   "language": "python",
   "name": "python3"
  },
  "language_info": {
   "codemirror_mode": {
    "name": "ipython",
    "version": 3
   },
   "file_extension": ".py",
   "mimetype": "text/x-python",
   "name": "python",
   "nbconvert_exporter": "python",
   "pygments_lexer": "ipython3",
   "version": "3.8.5"
  }
 },
 "nbformat": 4,
 "nbformat_minor": 4
}
